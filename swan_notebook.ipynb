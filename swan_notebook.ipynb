{
 "cells": [
  {
   "cell_type": "code",
   "execution_count": 1,
   "id": "fixed-jefferson",
   "metadata": {},
   "outputs": [
    {
     "name": "stdout",
     "output_type": "stream",
     "text": [
      "Requirement already satisfied: qastle in /eos/home-m/mproffit/.local/lib/python3.8/site-packages (0.10)\n",
      "Requirement already satisfied: func_adl in /eos/home-m/mproffit/.local/lib/python3.8/site-packages (2.1.1)\n",
      "Collecting awkward>=1\n",
      "  Using cached https://files.pythonhosted.org/packages/99/5d/a0fea22dccda14bb0ecfc6b553cd1225b164064161bab6c65c0c9c0a9bd2/awkward-1.1.2-cp38-cp38-manylinux2010_x86_64.whl\n",
      "Collecting uproot>=4\n",
      "  Using cached https://files.pythonhosted.org/packages/6e/4d/299e38a302212a1f4cb4ec97f9daf2ee6cd834713d7ce231229c569e0375/uproot-4.0.4-py2.py3-none-any.whl\n",
      "Requirement already satisfied: lark-parser>=0.6.5 in /eos/home-m/mproffit/.local/lib/python3.8/site-packages (from qastle) (0.11.2)\n",
      "Requirement already satisfied: make-it-sync in /eos/home-m/mproffit/.local/lib/python3.8/site-packages (from func_adl) (1.0.0)\n",
      "Requirement already satisfied: setuptools in /cvmfs/sft.cern.ch/lcg/views/LCG_99/x86_64-centos7-gcc8-opt/lib/python3.8/site-packages (from awkward>=1) (44.1.0)\n",
      "Requirement already satisfied: numpy>=1.13.1 in /cvmfs/sft.cern.ch/lcg/views/LCG_99/x86_64-centos7-gcc8-opt/lib/python3.8/site-packages (from awkward>=1) (1.18.2)\n",
      "Installing collected packages: awkward, uproot\n",
      "Successfully installed awkward-1.1.2 uproot-4.0.4\n",
      "Note: you may need to restart the kernel to use updated packages.\n"
     ]
    }
   ],
   "source": [
    "pip install --user qastle func_adl 'awkward>=1' 'uproot>=4'"
   ]
  },
  {
   "cell_type": "code",
   "execution_count": 2,
   "id": "moral-royal",
   "metadata": {},
   "outputs": [],
   "source": [
    "import sys\n",
    "sys.path.insert(0, '/eos/home-m/mproffit/.local/lib/python3.8/site-packages')\n",
    "sys.path.insert(0, '/eos/user/m/mproffit/src/func_adl_uproot')"
   ]
  },
  {
   "cell_type": "code",
   "execution_count": 3,
   "id": "conventional-plane",
   "metadata": {},
   "outputs": [],
   "source": [
    "from func_adl_uproot import UprootDataset\n",
    "import matplotlib.pyplot as plt"
   ]
  },
  {
   "cell_type": "markdown",
   "id": "developmental-bunch",
   "metadata": {},
   "source": [
    "## 1. Plot the missing $E_\\textrm{T}$ of all events."
   ]
  },
  {
   "cell_type": "code",
   "execution_count": 4,
   "id": "generous-acoustic",
   "metadata": {},
   "outputs": [],
   "source": [
    "ds = UprootDataset('/eos/user/m/mproffit/Run2012B_SingleMu.root')"
   ]
  },
  {
   "cell_type": "code",
   "execution_count": 5,
   "id": "finished-africa",
   "metadata": {
    "scrolled": false
   },
   "outputs": [],
   "source": [
    "missing_ET = ds.Select(lambda event: event.MET_pt).value()"
   ]
  },
  {
   "cell_type": "code",
   "execution_count": 6,
   "id": "renewable-bumper",
   "metadata": {},
   "outputs": [
    {
     "data": {
      "text/plain": [
       "<Array [22.2, 13.9, 15, ... 19.8, 19.9, 46.6] type='53446198 * float32'>"
      ]
     },
     "execution_count": 6,
     "metadata": {},
     "output_type": "execute_result"
    }
   ],
   "source": [
    "missing_ET"
   ]
  },
  {
   "cell_type": "code",
   "execution_count": 7,
   "id": "productive-textbook",
   "metadata": {},
   "outputs": [
    {
     "data": {
      "image/png": "[encoded data removed]",
      "text/plain": [
       "<Figure size 432x288 with 1 Axes>"
      ]
     },
     "metadata": {
      "needs_background": "light"
     },
     "output_type": "display_data"
    }
   ],
   "source": [
    "plt.hist([missing_ET], bins=100, range=(0, 100))\n",
    "plt.xlabel(r'$E_\\mathrm{T}^\\mathrm{miss}$ [GeV]')\n",
    "plt.ylabel('Events')\n",
    "plt.show()"
   ]
  },
  {
   "cell_type": "markdown",
   "id": "legal-payment",
   "metadata": {},
   "source": [
    "## 2. Plot $p_\\textrm{T}$ of all jets in all events."
   ]
  },
  {
   "cell_type": "code",
   "execution_count": 8,
   "id": "genuine-amsterdam",
   "metadata": {
    "scrolled": false
   },
   "outputs": [],
   "source": [
    "jet_pT = ds.SelectMany(lambda event: event.Jet_pt).value()"
   ]
  },
  {
   "cell_type": "code",
   "execution_count": 9,
   "id": "separate-adult",
   "metadata": {},
   "outputs": [
    {
     "data": {
      "text/plain": [
       "<Array [71.7, 27.8, 23.2, ... 19.9, 15.3, 17] type='170952895 * float32'>"
      ]
     },
     "execution_count": 9,
     "metadata": {},
     "output_type": "execute_result"
    }
   ],
   "source": [
    "jet_pT"
   ]
  },
  {
   "cell_type": "code",
   "execution_count": 10,
   "id": "unavailable-speed",
   "metadata": {},
   "outputs": [
    {
     "data": {
      "image/png": "[encoded data removed]",
      "text/plain": [
       "<Figure size 432x288 with 1 Axes>"
      ]
     },
     "metadata": {
      "needs_background": "light"
     },
     "output_type": "display_data"
    }
   ],
   "source": [
    "plt.hist([jet_pT], bins=100, range=(0, 100))\n",
    "plt.xlabel(r'$p_\\mathrm{T}$ [GeV]')\n",
    "plt.ylabel('Jets')\n",
    "plt.show()"
   ]
  },
  {
   "cell_type": "markdown",
   "id": "naughty-teens",
   "metadata": {},
   "source": [
    "## 3. Plot $p_\\textrm{T}$ of jets with $|\\eta| < 1$."
   ]
  },
  {
   "cell_type": "code",
   "execution_count": 11,
   "id": "amazing-throat",
   "metadata": {},
   "outputs": [],
   "source": [
    "filtered_jet_pT = ds.SelectMany(lambda event: Zip({'pT': event.Jet_pt, 'eta': event.Jet_eta}).Where(lambda jet: abs(jet.eta) < 1).Select(lambda jet: jet.pT)).value()"
   ]
  },
  {
   "cell_type": "code",
   "execution_count": 12,
   "id": "painful-signal",
   "metadata": {},
   "outputs": [
    {
     "data": {
      "text/plain": [
       "<Array [27.8, 17.4, 33.7, ... 66.2, 22.1, 15.3] type='39563735 * float32'>"
      ]
     },
     "execution_count": 12,
     "metadata": {},
     "output_type": "execute_result"
    }
   ],
   "source": [
    "filtered_jet_pT"
   ]
  },
  {
   "cell_type": "code",
   "execution_count": 13,
   "id": "congressional-robertson",
   "metadata": {},
   "outputs": [
    {
     "data": {
      "image/png": "[encoded data removed]",
      "text/plain": [
       "<Figure size 432x288 with 1 Axes>"
      ]
     },
     "metadata": {
      "needs_background": "light"
     },
     "output_type": "display_data"
    }
   ],
   "source": [
    "plt.hist([filtered_jet_pT], bins=100, range=(0, 100))\n",
    "plt.xlabel(r'$p_\\mathrm{T}$ [GeV]')\n",
    "plt.ylabel('Jets')\n",
    "plt.show()"
   ]
  },
  {
   "cell_type": "markdown",
   "id": "successful-ridge",
   "metadata": {},
   "source": [
    "## 4. Plot the missing $E_\\textrm{T}$ of events that have at least two jets with $p_\\textrm{T} > 40 \\textrm{ GeV}$."
   ]
  },
  {
   "cell_type": "code",
   "execution_count": 14,
   "id": "exotic-solomon",
   "metadata": {
    "scrolled": false
   },
   "outputs": [],
   "source": [
    "filtered_missing_ET = ds.Where(lambda event: event.Jet_pt.Where(lambda pT: pT > 40).Count() >= 2).Select(lambda event: event.MET_pt).value()"
   ]
  },
  {
   "cell_type": "code",
   "execution_count": 15,
   "id": "another-washington",
   "metadata": {},
   "outputs": [
    {
     "data": {
      "text/plain": [
       "<Array [15, 44.7, 30.5, ... 123, 30.3, 20.4] type='6665702 * float32'>"
      ]
     },
     "execution_count": 15,
     "metadata": {},
     "output_type": "execute_result"
    }
   ],
   "source": [
    "filtered_missing_ET"
   ]
  },
  {
   "cell_type": "code",
   "execution_count": 16,
   "id": "superb-sixth",
   "metadata": {},
   "outputs": [
    {
     "data": {
      "image/png": "[encoded data removed]",
      "text/plain": [
       "<Figure size 432x288 with 1 Axes>"
      ]
     },
     "metadata": {
      "needs_background": "light"
     },
     "output_type": "display_data"
    }
   ],
   "source": [
    "plt.hist([filtered_missing_ET], bins=100, range=(0, 100))\n",
    "plt.xlabel(r'$E_\\mathrm{T}^\\mathrm{miss}$ [GeV]')\n",
    "plt.ylabel('Events')\n",
    "plt.show()"
   ]
  }
 ],
 "metadata": {
  "kernelspec": {
   "display_name": "Python 3",
   "language": "python",
   "name": "python3"
  },
  "language_info": {
   "codemirror_mode": {
    "name": "ipython",
    "version": 3
   },
   "file_extension": ".py",
   "mimetype": "text/x-python",
   "name": "python",
   "nbconvert_exporter": "python",
   "pygments_lexer": "ipython3",
   "version": "3.8.6"
  }
 },
 "nbformat": 4,
 "nbformat_minor": 5
}
